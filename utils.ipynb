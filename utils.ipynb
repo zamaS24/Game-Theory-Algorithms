{
 "cells": [
  {
   "cell_type": "markdown",
   "metadata": {},
   "source": [
    "### create a payoff matrix "
   ]
  },
  {
   "cell_type": "code",
   "execution_count": 1,
   "metadata": {},
   "outputs": [
    {
     "name": "stdout",
     "output_type": "stream",
     "text": [
      "[[[0 0]\n",
      "  [0 0]\n",
      "  [0 0]\n",
      "  [0 0]]\n",
      "\n",
      " [[0 0]\n",
      "  [0 0]\n",
      "  [0 0]\n",
      "  [0 0]]\n",
      "\n",
      " [[0 0]\n",
      "  [0 0]\n",
      "  [0 0]\n",
      "  [0 0]]]\n"
     ]
    }
   ],
   "source": [
    "import numpy as np\n",
    "import pandas as pd\n",
    "import matplotlib.pyplot as plt\n",
    "from sklearn.datasets import make_blobs\n",
    "from sklearn.cluster import KMeans\n",
    "\n",
    "\n",
    "payoff_matrix = np.array(\n",
    "     # Point strategies\n",
    "     #    C1      C2      C3      C4\n",
    "    [[(0, 0), (0, 0), (0, 0), (0, 0)], #\n",
    "     [(0, 0), (0, 0), (0, 0), (0, 0)], #\n",
    "     [(0, 0), (0, 0), (0, 0), (0, 0)]] #\n",
    ")\n",
    "\n",
    "\n",
    "# print(\"Generating payoff matrix\\n\", np.zeros((3,4,2)) )\n",
    "\n",
    "print(payoff_matrix)"
   ]
  },
  {
   "cell_type": "markdown",
   "metadata": {},
   "source": [
    "### some strategies \n"
   ]
  },
  {
   "cell_type": "code",
   "execution_count": null,
   "metadata": {},
   "outputs": [],
   "source": [
    "\n",
    "# Strategy 2: Farthest Point Strategy\n",
    "def find_farthest_point(points, centers):\n",
    "    farthest_dist = -1\n",
    "    farthest_point = None\n",
    "    for point in points:\n",
    "        min_distance = min(np.linalg.norm(point - c) for c in centers)\n",
    "        if min_distance > farthest_dist:\n",
    "            farthest_dist = min_distance\n",
    "            farthest_point = point\n",
    "    return farthest_point\n",
    "\n",
    "# Strategy 3: K-Means++ Initialization\n",
    "def kmeans_pp_strategy(X, num_clusters):\n",
    "    kmeans_pp = KMeans(n_clusters=num_clusters, init='k-means++')\n",
    "    kmeans_pp.fit(X)\n",
    "    kmeans_pp_positions = kmeans_pp.cluster_centers_\n",
    "    return kmeans_pp_positions\n",
    "\n",
    "\n"
   ]
  },
  {
   "cell_type": "markdown",
   "metadata": {},
   "source": [
    "### find closest centroid "
   ]
  },
  {
   "cell_type": "code",
   "execution_count": 2,
   "metadata": {},
   "outputs": [
    {
     "name": "stdout",
     "output_type": "stream",
     "text": [
      "   X  Y  Z  centroid\n",
      "0  1  1  1         0\n",
      "1  2  2  2         1\n",
      "2  3  3  3         1\n",
      "3  5  5  5         2\n",
      "4  6  6  6         2\n",
      "5  7  7  7         3\n"
     ]
    }
   ],
   "source": [
    "import pandas as pd\n",
    "import numpy as np\n",
    "\n",
    "# Example DataFrame\n",
    "data = {\n",
    "    'X': [1, 2, 3, 5, 6, 7],\n",
    "    'Y': [1, 2, 3, 5, 6, 7],\n",
    "    'Z': [1, 2, 3, 5, 6, 7],\n",
    "    'centroid': [0, 0, 0, 0, 0, 0]\n",
    "}\n",
    "\n",
    "df = pd.DataFrame(data)\n",
    "\n",
    "# Example centroids array\n",
    "centroids = np.array([[1, 1], [2, 2], [6, 6], [7, 7]])\n",
    "\n",
    "# Function to find the closest centroid\n",
    "def find_closest_centroid(point, centroids):\n",
    "    distances = np.linalg.norm(centroids - point, axis=1)\n",
    "    closest_centroid_idx = np.argmin(distances)\n",
    "    return closest_centroid_idx\n",
    "\n",
    "# Iterate through each row and update 'centroid' column with the closest centroid\n",
    "for idx, row in df.iterrows():\n",
    "    point = np.array([row['X'], row['Y']])\n",
    "    closest_idx = find_closest_centroid(point, centroids)\n",
    "    df.at[idx, 'centroid'] = closest_idx\n",
    "\n",
    "print(df)"
   ]
  }
 ],
 "metadata": {
  "kernelspec": {
   "display_name": "Python 3",
   "language": "python",
   "name": "python3"
  },
  "language_info": {
   "codemirror_mode": {
    "name": "ipython",
    "version": 3
   },
   "file_extension": ".py",
   "mimetype": "text/x-python",
   "name": "python",
   "nbconvert_exporter": "python",
   "pygments_lexer": "ipython3",
   "version": "3.10.7"
  }
 },
 "nbformat": 4,
 "nbformat_minor": 2
}
